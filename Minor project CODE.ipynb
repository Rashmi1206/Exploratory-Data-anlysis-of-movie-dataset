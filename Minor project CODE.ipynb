{
 "cells": [
  {
   "cell_type": "markdown",
   "metadata": {},
   "source": [
    "## Que 1. Which are the movies with the third lowest and third highest budget?"
   ]
  },
  {
   "cell_type": "code",
   "execution_count": null,
   "metadata": {},
   "outputs": [],
   "source": [
    "import pandas as pd"
   ]
  },
  {
   "cell_type": "code",
   "execution_count": null,
   "metadata": {},
   "outputs": [],
   "source": [
    "#loading the csv file\n",
    "df= pd.read_csv(r'C:/Users/Rashmi/Desktop/Minor project Verzeo/tmdb-movies.csv', engine='python')\n",
    "df.head()\n",
    "print(df.shape)\n"
   ]
  },
  {
   "cell_type": "code",
   "execution_count": null,
   "metadata": {},
   "outputs": [],
   "source": [
    "#removing null values\n",
    "df= df[df[\"budget\"]!=0]\n",
    "df= df[df[\"revenue\"]!=0]\n",
    "df.head()\n",
    "print(df.shape)"
   ]
  },
  {
   "cell_type": "code",
   "execution_count": null,
   "metadata": {},
   "outputs": [],
   "source": [
    "x = df[\"budget\"]\n",
    "print(x)"
   ]
  },
  {
   "cell_type": "code",
   "execution_count": null,
   "metadata": {},
   "outputs": [],
   "source": [
    "\n",
    "y= list(x)  #storing list of budget as \"list\" data type\n",
    "\n",
    "y.sort(reverse =True) #converting the list in descending order\n",
    "\n",
    "third_highest = y[2] # movie with third highest budget\n",
    "print(third_highest)\n",
    "\n",
    "# 1 form of representing answer\n",
    "#df[df.budget == third_highest]\n",
    "\n",
    "# 2 form of representing answer\n",
    "a=df[(df.budget == third_highest)]\n",
    "print(\"Movie with the highest budget is: \" + str(a[\"original_title\"]))"
   ]
  },
  {
   "cell_type": "code",
   "execution_count": null,
   "metadata": {},
   "outputs": [],
   "source": [
    "y.sort() # converting the list in ascending order\n",
    "\n",
    "third_lowest = rwz[2] # third lowest value\n",
    "print(third_lowest)\n",
    "\n",
    "#1 form of representing answer\n",
    "df[df.budget == third_lowest]\n",
    "\n",
    "# 2 form of representing answer\n",
    "#a=df[(df.budget == third_lowest)]\n",
    "#print(\"Movie with the highest lowest is: \" + str(a[\"original_title\"]))"
   ]
  },
  {
   "cell_type": "markdown",
   "metadata": {},
   "source": [
    "## Que 2. What is the average number of words in movie titles between the year 2000-2005?"
   ]
  },
  {
   "cell_type": "code",
   "execution_count": null,
   "metadata": {},
   "outputs": [],
   "source": [
    "no_of_words=0\n",
    "Movies_2000to2005=df[(df.release_year>=\"2000\") | (df.release_year<=\"2005\")]\n",
    "#print(Movies_2000to2005.shape)\n",
    "\n",
    "for i in range(Movies_2000to2005.shape[0]):\n",
    "    Words = Movies_2000to2005[\"original_title\"].values[i].split(' ')   # slpiting the words in title\n",
    "    no_of_words = no_of_words +len(Words)  # counting the words\n",
    "  \n",
    "average_no_of_words=  no_of_words/Movies_2000to2005.shape[0]\n",
    "print(\"average number of words in movie titles between the year 2000-2005 : \"+ str(average_no_of_words))"
   ]
  },
  {
   "cell_type": "markdown",
   "metadata": {},
   "source": [
    "## Que 3. What is the most common Genre for Vin Diesel & Emma Watson movies?"
   ]
  },
  {
   "cell_type": "code",
   "execution_count": 60,
   "metadata": {},
   "outputs": [],
   "source": [
    "vin_diesel_df= df[df['cast'].str.contains('Vin Diesel')==True]   #creating a data frame for Vin Diesel movies\n",
    "emma_watson_df = df[df['cast'].str.contains('Emma Watson')==True]   #creating a data frame for Emma Watson movies"
   ]
  },
  {
   "cell_type": "code",
   "execution_count": null,
   "metadata": {},
   "outputs": [],
   "source": [
    "#for Vin Diesel Movies \n",
    "\n",
    "genres_and_count = {}\n",
    "for i in range(vin_diesel_df.shape[0]):\n",
    "    genres = vin_diesel_df['genres'].values[i].split('|')\n",
    "    for genre in genres:\n",
    "        try:\n",
    "            count = genres_and_count[genre] \n",
    "            genres_and_count[genre] = count+1\n",
    "        except:\n",
    "            genres_and_count[genre] = 1\n",
    "genres_and_count           "
   ]
  },
  {
   "cell_type": "code",
   "execution_count": null,
   "metadata": {},
   "outputs": [],
   "source": [
    "#for Emma Watson Movies \n",
    "\n",
    "genres_and_count = {}\n",
    "for i in range(emma_watson_df.shape[0]):\n",
    "    genres = emma_watson_df['genres'].values[i].split('|')\n",
    "    for genre in genres:\n",
    "        try:\n",
    "            count = genres_and_count[genre] \n",
    "            genres_and_count[genre] = count+1\n",
    "        except:\n",
    "            genres_and_count[genre] = 1\n",
    "genres_and_count"
   ]
  },
  {
   "cell_type": "markdown",
   "metadata": {},
   "source": [
    "## Que 4. Which are the movies with most and least earned revenue?\n"
   ]
  },
  {
   "cell_type": "code",
   "execution_count": null,
   "metadata": {},
   "outputs": [],
   "source": [
    "revenue = df[\"revenue\"]\n",
    "#print(revenue)\n",
    "\n",
    "# for the maximun revenue\n",
    "\n",
    "max_revenue= max(revenue)\n",
    "#print(max_revenu)\n",
    "most_earned_revenue= df[df.revenue== max_revenue]\n",
    "\n",
    "print(\"movie with most earned revenue : \"+str(most_earned_revenue[\"original_title\"]))"
   ]
  },
  {
   "cell_type": "code",
   "execution_count": null,
   "metadata": {},
   "outputs": [],
   "source": [
    "# minimun earned revenue\n",
    "\n",
    "min_revenue= min(revenue)\n",
    "#print(min_revenue)\n",
    "least_earned_revenue = df[df.revenue== min_revenue]\n",
    "\n",
    "print(\"movie with least earned revenue : \"+str(least_earned_revenue[\"original_title\"]))"
   ]
  },
  {
   "cell_type": "markdown",
   "metadata": {},
   "source": [
    "## Que 5. What is the average runtime of movies in the year 2006?"
   ]
  },
  {
   "cell_type": "code",
   "execution_count": null,
   "metadata": {},
   "outputs": [],
   "source": [
    "Movies_in_2006 = df[(df.release_year==\"2006\")]\n",
    "Runtime = Movies_in_2006[\"runtime\"]  # runtime of movies in year 2006\n",
    "\n",
    "ListofRuntime = list(Runtime)  # converting into list data type\n",
    "\n",
    "totalRuntime=0\n",
    "for i in range(0,len(Movies_in_2006)):\n",
    "    totalRuntime = totalRuntime + int(ListofRuntime[i])  #calculating total Runtime\n",
    "\n",
    "AverageRuntime = totalRuntime/len(Movies_in_2006)\n",
    "print(\"Average runtime of movies in 2006 is: \" + str(AverageRuntime))"
   ]
  },
  {
   "cell_type": "markdown",
   "metadata": {},
   "source": [
    "## Que 6. Name any 3 production companies which have invested money in worse revenue movies?"
   ]
  },
  {
   "cell_type": "code",
   "execution_count": null,
   "metadata": {},
   "outputs": [],
   "source": [
    "X = df[\"revenue\"] # extracting revenue\n",
    "\n",
    "List_of_revenue = list(X) # converting into list datatype\n",
    "#print(List_of_revenue)\n",
    "List_of_revenue.sort()\n",
    "for i in range(0,3):\n",
    "    #worst_reveue=List_of_revenue[i]\n",
    "    a=df[(df.budget == List_of_revenue[i])]\n",
    "    print(\"Production companies invested in worst revenue movies: \" + str(a[\"production_companies\"]))"
   ]
  },
  {
   "cell_type": "code",
   "execution_count": null,
   "metadata": {},
   "outputs": [],
   "source": []
  }
 ],
 "metadata": {
  "kernelspec": {
   "display_name": "Python 3",
   "language": "python",
   "name": "python3"
  },
  "language_info": {
   "codemirror_mode": {
    "name": "ipython",
    "version": 3
   },
   "file_extension": ".py",
   "mimetype": "text/x-python",
   "name": "python",
   "nbconvert_exporter": "python",
   "pygments_lexer": "ipython3",
   "version": "3.8.3"
  }
 },
 "nbformat": 4,
 "nbformat_minor": 4
}
